{
 "cells": [
  {
   "cell_type": "code",
   "execution_count": 1,
   "metadata": {
    "collapsed": false
   },
   "outputs": [
   ],
   "source": [
    "'''\n",
    "Подключение всех нужных библиотек и функций\n",
    "'''\n",
    "\n",
    "\n",
    "\n",
    "import numpy as np\n",
    "import pandas as pd\n",
    "from IPython.display import display\n",
    "import matplotlib.pyplot as plt\n",
    "\n",
    "from sklearn.svm import SVC\n",
    "from sklearn.decomposition import PCA\n",
    "from sklearn.metrics import f1_score\n",
    "from sklearn.preprocessing import StandardScaler\n",
    "from sklearn.metrics import accuracy_score\n",
    "from sklearn.model_selection import GridSearchCV\n",
    "from sklearn.model_selection import train_test_split\n",
    "from sklearn.pipeline import make_pipeline\n",
    "from sklearn.datasets import make_blobs\n",
    "from sklearn.datasets import make_circles"
   ]
  },
  {
   "cell_type": "code",
   "execution_count": 0,
   "metadata": {
    "collapsed": false
   },
   "outputs": [
   ],
   "source": [
    "'''\n",
    "Функции\n",
    "'''\n",
    "\n",
    "\n",
    "\n",
    "# Начальное условие для генератора случайных чисел\n",
    "np.random.seed(42)\n",
    "\n",
    "\n",
    "# LaTeX\n",
    "def formatted(s):\n",
    "    return '$%s$' % s\n",
    "\n",
    "\n",
    "# Построение графика\n",
    "def graph(X, y, clf, title=''):\n",
    "    plt.scatter(X[:, 0], X[:, 1], c=y, s=30, cmap=plt.cm.Paired)\n",
    "    ax = plt.gca()\n",
    "    xlim = ax.get_xlim()\n",
    "    ylim = ax.get_ylim()\n",
    "\n",
    "    xx = np.linspace(xlim[0], xlim[1], 30)\n",
    "    yy = np.linspace(ylim[0], ylim[1], 30)\n",
    "    YY, XX = np.meshgrid(yy, xx)\n",
    "    xy = np.vstack([XX.ravel(), YY.ravel()]).T\n",
    "    Z = clf.decision_function(xy).reshape(XX.shape)\n",
    "\n",
    "    ax.contour(XX, YY, Z, colors='k', levels=[-1, 0, 1], alpha=0.5,\n",
    "               linestyles=['--', '-', '--'])\n",
    "    ax.scatter(clf.support_vectors_[:, 0], clf.support_vectors_[:, 1], s=100,\n",
    "               linewidth=1, facecolors='none', edgecolors='r')\n",
    "    ax.set_title(title)\n",
    "    plt.show()"
   ]
  },
  {
   "cell_type": "code",
   "execution_count": 0,
   "metadata": {
    "collapsed": false
   },
   "outputs": [
   ],
   "source": [
    "'''\n",
    "Линейно разделимые данные\n",
    "'''\n",
    "\n",
    "\n",
    "\n",
    "# Генерация\n",
    "n = 100\n",
    "X, y = make_blobs(n_samples=n, centers=2, random_state=42)\n",
    "\n",
    "# Обучение и вывод результатов\n",
    "clf = SVC(kernel='linear')\n",
    "clf.fit(X, y)\n",
    "\n",
    "graph(X, y, clf, 'Линейно разделимые данные')"
   ]
  },
  {
   "cell_type": "code",
   "execution_count": 0,
   "metadata": {
    "collapsed": false
   },
   "outputs": [
   ],
   "source": [
    "'''\n",
    "Линейно разделимые данные с внесёнными выбросами\n",
    "'''\n",
    "\n",
    "\n",
    "\n",
    "# Генерация\n",
    "n = 100\n",
    "X, y = make_blobs(n_samples=n, centers=2, random_state=42)\n",
    "\n",
    "# Внесение выбросов\n",
    "outliers_X = np.array([\n",
    "        [0, 5],\n",
    "        [1, 4],\n",
    "        [3, 4]\n",
    "    ])\n",
    "outliers_y = np.array([\n",
    "        0,\n",
    "        1,\n",
    "        0\n",
    "    ]).T\n",
    "X = np.append(X, outliers_X, axis=0)\n",
    "y = np.append(y, outliers_y, axis=0)\n",
    "\n",
    "table = pd.DataFrame(data=[], columns=[formatted(r\"M=\\frac{2}{\\left \\| w \\right \\|}\")])\n",
    "table.columns.name = formatted(r'C')\n",
    "\n",
    "# Исследование при различных C\n",
    "for C in [0.1, 1, 10, 100]:\n",
    "    clf = SVC(kernel='linear', C=C)\n",
    "    clf.fit(X, y)\n",
    "    norm_w = np.sqrt(np.sum(clf.coef_ ** 2))\n",
    "    M = 1 / norm_w\n",
    "    table.loc[str(C)] = [M]\n",
    "\n",
    "    graph(X, y, clf, formatted('C=' + str(C)))\n",
    "\n",
    "display(table)"
   ]
  },
  {
   "cell_type": "code",
   "execution_count": 0,
   "metadata": {
    "collapsed": false
   },
   "outputs": [
   ],
   "source": [
    "'''\n",
    "Линейно неразделимые данные\n",
    "'''\n",
    "\n",
    "\n",
    "\n",
    "# Генерация\n",
    "n = 100\n",
    "X, y = make_circles(n_samples=n, factor=0.3, noise=0.05, random_state=42)\n",
    "\n",
    "# Внесение выбросов\n",
    "outliers_X = np.array([\n",
    "        [0.75, 0.75]\n",
    "    ])\n",
    "outliers_y = np.array([\n",
    "        1\n",
    "    ]).T\n",
    "X = np.append(X, outliers_X, axis=0)\n",
    "y = np.append(y, outliers_y, axis=0)\n",
    "\n",
    "# Исследование при различных C\n",
    "for C in [1, 10, 100, 1000]:\n",
    "    clf = SVC(kernel='rbf', C=C)\n",
    "    clf.fit(X, y)\n",
    "    \n",
    "    graph(X, y, clf, formatted('C=' + str(C)))"
   ]
  },
  {
   "cell_type": "code",
   "execution_count": 0,
   "metadata": {
    "collapsed": false
   },
   "outputs": [
   ],
   "source": [
    "'''\n",
    "german\n",
    "'''\n",
    "\n",
    "\n",
    "\n",
    "# Получение и считывание данных из файла в двумерный numpy-массив\n",
    "def parse_file(filename):\n",
    "    arr = []\n",
    "\n",
    "    with open(filename) as file:\n",
    "        for line in file:\n",
    "            arr.append(list(map(int, line.strip().split())))\n",
    "\n",
    "    return np.array(arr)\n",
    "\n",
    "\n",
    "# Исследование на сетках по C и gamma\n",
    "def analyze(X, y):\n",
    "    # Вывод результатов\n",
    "    def print_results(X_train, X_test, y_train, y_test, title):\n",
    "        search.fit(X_train, y_train)\n",
    "        y_pred_train = search.predict(X_train)\n",
    "        y_pred_test = search.predict(X_test)\n",
    "        \n",
    "        print('*** ' + title + ' ***')\n",
    "        print()\n",
    "        print('Лучшая точность на обучающей выборке:', search.best_score_ * 100, '%')\n",
    "        print('Оптимальные параметры: C =', search.best_params_['svc__C'], ', gamma =', search.best_params_['svc__gamma'])\n",
    "        print('F1-оценка:', f1_score(y_train, y_pred_train))\n",
    "        print()\n",
    "        print('Точность на тесте:', accuracy_score(y_test, y_pred_test) * 100, '%')\n",
    "        print('F1-оценка:', f1_score(y_test, y_pred_test))\n",
    "        print()\n",
    "        print()\n",
    "        \n",
    "    C_grid = [1, 10, 100, 1000]\n",
    "    gamma_grid = [1e-1, 1e-2, 1e-3, 1e-4]\n",
    "    \n",
    "    # Разбитие на ТП и ТестП\n",
    "    pca = PCA(n_components=3)\n",
    "    X_reduced = pca.fit_transform(X)\n",
    "    X_train, X_test, X_red_train, X_red_test, y_train, y_test = train_test_split(X, X_reduced, y, test_size=0.2, random_state=42)\n",
    "    \n",
    "    # Инициализация\n",
    "    clf = make_pipeline(StandardScaler(), SVC())\n",
    "    param_grid = {'svc__C': C_grid, 'svc__gamma': gamma_grid, 'svc__kernel': ['rbf']}\n",
    "    search = GridSearchCV(clf, param_grid, cv=5)\n",
    "    \n",
    "    print_results(X_train, X_test, y_train, y_test, 'На полном наборе признаков')\n",
    "    print_results(X_red_train, X_red_test, y_train, y_test, 'С тремя главными компонентами')\n",
    "\n",
    "    \n",
    "# Чтение и преобразование данных в numpy-массивы\n",
    "german = parse_file('german.data-numeric')\n",
    "X, y = german[:, :-1], german[:, -1] - 1\n",
    "\n",
    "# Анализ\n",
    "analyze(X, y)"
   ]
  }
 ],
 "metadata": {
  "kernelspec": {
   "display_name": "Python 3 (system-wide)",
   "language": "python",
   "metadata": {
    "cocalc": {
     "description": "Python 3 programming language",
     "priority": 100,
     "url": "https://www.python.org/"
    }
   },
   "name": "python3",
   "resource_dir": "/ext/jupyter/kernels/python3"
  },
  "language_info": {
   "codemirror_mode": {
    "name": "ipython",
    "version": 3
   },
   "file_extension": ".py",
   "mimetype": "text/x-python",
   "name": "python",
   "nbconvert_exporter": "python",
   "pygments_lexer": "ipython3",
   "version": "3.8.5"
  }
 },
 "nbformat": 4,
 "nbformat_minor": 4
}