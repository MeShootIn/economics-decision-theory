{
 "cells": [
  {
   "cell_type": "code",
   "execution_count": 1,
   "metadata": {
    "collapsed": false
   },
   "outputs": [
   ],
   "source": [
    "import numpy as np\n",
    "import pandas as pd\n",
    "import scipy.stats as st\n",
    "from sklearn.model_selection import train_test_split\n",
    "import math\n",
    "from IPython.display import display"
   ]
  },
  {
   "cell_type": "code",
   "execution_count": 2,
   "metadata": {
    "collapsed": false
   },
   "outputs": [
   ],
   "source": [
    "np.random.seed(0)\n",
    "\n",
    "\n",
    "def gen_N(mean, Sigma, size):\n",
    "    return np.random.multivariate_normal(mean=mean, cov=Sigma, size=size)\n",
    "\n",
    "\n",
    "def params_cov(X, mu_hat):\n",
    "    n, p = X.shape\n",
    "    S = np.zeros((p, p))\n",
    "\n",
    "    def s(l, j):\n",
    "        s = 0\n",
    "\n",
    "        for i in range(n):\n",
    "            s += (X[i][l] - mu_hat[l]) * (X[i][j] - mu_hat[j])\n",
    "\n",
    "        return s / (n - 1)\n",
    "\n",
    "    for l in range(p):\n",
    "        for j in range(p):\n",
    "            S[l][j] = s(l, j)\n",
    "\n",
    "    return S\n",
    "\n",
    "\n",
    "def mu_hat(X):\n",
    "    return np.mean(X, axis=0)\n",
    "\n",
    "\n",
    "def DF_values(a, X):\n",
    "    n = X.shape[0]\n",
    "    z = np.empty((n, 1))\n",
    "\n",
    "    for i in range(n):\n",
    "        z[i] = np.dot(a, X[i])\n",
    "\n",
    "    return z\n",
    "\n",
    "\n",
    "def get_s_z_sqr(a, S):\n",
    "    p = S.shape[0]\n",
    "    s = 0\n",
    "\n",
    "    for l in range(p):\n",
    "        for j in range(p):\n",
    "            s += a[l] * S[l][j] * a[j]\n",
    "\n",
    "    return s\n",
    "\n",
    "\n",
    "def Mahalanobis_distance(z1_mean, z2_mean, s_z_sqr):\n",
    "    return ((z1_mean - z2_mean)**2) / s_z_sqr\n",
    "\n",
    "\n",
    "def displaced_Mahalanobis_distance(n1, n2, D_sqr, p):\n",
    "    return ((n1 + n2 - p - 3) / (n1 + n2 - 2)) * D_sqr - p * (1 / n1 + 1 / n2)\n",
    "\n",
    "\n",
    "def F(x):\n",
    "    return st.norm.cdf(x)\n",
    "\n",
    "\n",
    "def parse_file(filename):\n",
    "    arr = []\n",
    "\n",
    "    with open(filename) as file:\n",
    "        for line in file:\n",
    "            arr.append(list(map(int, line.strip().split())))\n",
    "\n",
    "    return arr\n",
    "\n",
    "\n",
    "def split_X(X, arr, offset=0):\n",
    "    p = X.shape[1]\n",
    "    X1 = np.empty((0, p))\n",
    "    X2 = np.empty((0, p))\n",
    "\n",
    "    for i in range(len(X)):\n",
    "        if arr[i + offset][-1] == 1:\n",
    "            X1 = np.append(X1, [X[i]], axis=0)\n",
    "        else:\n",
    "            X2 = np.append(X2, [X[i]], axis=0)\n",
    "\n",
    "    return X1, X2\n",
    "\n",
    "\n",
    "def analyze(X1, X2, test_part_1, test_part_2):\n",
    "    def display_correspondence_table(z1, z2):\n",
    "        table = [[z1[z1 >= c].shape[0], z1[z1 < c].shape[0]],\n",
    "                 [z2[z2 >= c].shape[0], z2[z2 < c].shape[0]]]\n",
    "\n",
    "        correspondence_table = pd.DataFrame([], columns=['1', '2'])\n",
    "        correspondence_table.columns.name = 'True↓ \\ Pred→'\n",
    "        correspondence_table.loc['1'] = table[0]\n",
    "        correspondence_table.loc['2'] = table[1]\n",
    "\n",
    "        display(correspondence_table)\n",
    "\n",
    "        return table\n",
    "\n",
    "    def print_D():\n",
    "        print('Смещённая оценка расстояния Махаланобиса:')\n",
    "        print(D_sqr)\n",
    "        print()\n",
    "\n",
    "        print('Несмещённая оценка расстояния Махаланобиса')\n",
    "        print(D_H_sqr)\n",
    "        print()\n",
    "\n",
    "    def print_P_table(table):\n",
    "        P_2_1_table = table[0][1] / (table[0][0] + table[0][1])\n",
    "        P_1_2_table = table[1][0] / (table[1][0] + table[1][1])\n",
    "\n",
    "        print('Табличные вероятности ошибочной классификации:')\n",
    "        print('P(2|1) = ' + str(P_2_1_table))\n",
    "        print('P(1|2) = ' + str(P_1_2_table))\n",
    "        print()\n",
    "\n",
    "    def print_P_hat():\n",
    "        P_2_1_hat = F((K - D_H_sqr / 2) / math.sqrt(D_H_sqr))\n",
    "        P_1_2_hat = F((-K - D_H_sqr / 2) / math.sqrt(D_H_sqr))\n",
    "\n",
    "        print('Теоретические вероятности ошибочной классификации:')\n",
    "        print('P^(2|1) = ' + str(P_2_1_hat))\n",
    "        print('P^(1|2) = ' + str(P_1_2_hat))\n",
    "        print()\n",
    "\n",
    "    n1, n2, p = X1.shape[0], X2.shape[0], X1.shape[1]\n",
    "    q1 = n1 / (n1 + n2)\n",
    "    q2 = n2 / (n1 + n2)\n",
    "\n",
    "    mu_hat1 = mu_hat(X1)\n",
    "    mu_hat2 = mu_hat(X2)\n",
    "    S1 = params_cov(X1, mu_hat1)\n",
    "    S2 = params_cov(X2, mu_hat2)\n",
    "    S = ((n1 - 1) * S1 + (n2 - 1) * S2) / (n1 + n2 - 2)\n",
    "\n",
    "    a = np.linalg.solve(S, mu_hat1 - mu_hat2)\n",
    "    s_z_sqr = get_s_z_sqr(a, S)\n",
    "\n",
    "    z1 = DF_values(a, X1)\n",
    "    z2 = DF_values(a, X2)\n",
    "    test_part_1_z = DF_values(a, test_part_1)\n",
    "    test_part_2_z = DF_values(a, test_part_2)\n",
    "    z1_mean = np.mean(z1)\n",
    "    z2_mean = np.mean(z2)\n",
    "\n",
    "    K = math.log(q2 / q1)\n",
    "    c = (z1_mean + z2_mean) / 2 + K\n",
    "    D_sqr = Mahalanobis_distance(z1_mean, z2_mean, s_z_sqr)\n",
    "    D_H_sqr = displaced_Mahalanobis_distance(n1, n2, D_sqr, p)\n",
    "\n",
    "    print('Обучающая выборка')\n",
    "    table = display_correspondence_table(z1, z2)\n",
    "    print_D()\n",
    "    print_P_table(table)\n",
    "    print_P_hat()\n",
    "\n",
    "    print('Тестовая выборка')\n",
    "    test_table = display_correspondence_table(test_part_1_z, test_part_2_z)\n",
    "    print_P_table(test_table)"
   ]
  },
  {
   "cell_type": "code",
   "execution_count": 3,
   "metadata": {
    "collapsed": false
   },
   "outputs": [
    {
     "name": "stdout",
     "output_type": "stream",
     "text": [
      "Обучающая выборка\n"
     ]
    },
    {
     "data": {
      "text/html": [
       "<div>\n",
       "<style scoped>\n",
       "    .dataframe tbody tr th:only-of-type {\n",
       "        vertical-align: middle;\n",
       "    }\n",
       "\n",
       "    .dataframe tbody tr th {\n",
       "        vertical-align: top;\n",
       "    }\n",
       "\n",
       "    .dataframe thead th {\n",
       "        text-align: right;\n",
       "    }\n",
       "</style>\n",
       "<table border=\"1\" class=\"dataframe\">\n",
       "  <thead>\n",
       "    <tr style=\"text-align: right;\">\n",
       "      <th>True↓ \\ Pred→</th>\n",
       "      <th>1</th>\n",
       "      <th>2</th>\n",
       "    </tr>\n",
       "  </thead>\n",
       "  <tbody>\n",
       "    <tr>\n",
       "      <th>1</th>\n",
       "      <td>185</td>\n",
       "      <td>15</td>\n",
       "    </tr>\n",
       "    <tr>\n",
       "      <th>2</th>\n",
       "      <td>9</td>\n",
       "      <td>791</td>\n",
       "    </tr>\n",
       "  </tbody>\n",
       "</table>\n",
       "</div>"
      ],
      "text/plain": [
       "True↓ \\ Pred→    1    2\n",
       "1              185   15\n",
       "2                9  791"
      ]
     },
     "execution_count": 3,
     "metadata": {
     },
     "output_type": "execute_result"
    },
    {
     "name": "stdout",
     "output_type": "stream",
     "text": [
      "Смещённая оценка расстояния Махаланобиса:\n",
      "14.180862036322667\n",
      "\n",
      "Несмещённая оценка расстояния Махаланобиса\n",
      "14.105274913932595\n",
      "\n",
      "Табличные вероятности ошибочной классификации:\n",
      "P(2|1) = 0.075\n",
      "P(1|2) = 0.01125\n",
      "\n",
      "Теоретические вероятности ошибочной классификации:\n",
      "P^(2|1) = 0.06568364746938081\n",
      "P^(1|2) = 0.01232106704972486\n",
      "\n",
      "Тестовая выборка\n"
     ]
    },
    {
     "data": {
      "text/html": [
       "<div>\n",
       "<style scoped>\n",
       "    .dataframe tbody tr th:only-of-type {\n",
       "        vertical-align: middle;\n",
       "    }\n",
       "\n",
       "    .dataframe tbody tr th {\n",
       "        vertical-align: top;\n",
       "    }\n",
       "\n",
       "    .dataframe thead th {\n",
       "        text-align: right;\n",
       "    }\n",
       "</style>\n",
       "<table border=\"1\" class=\"dataframe\">\n",
       "  <thead>\n",
       "    <tr style=\"text-align: right;\">\n",
       "      <th>True↓ \\ Pred→</th>\n",
       "      <th>1</th>\n",
       "      <th>2</th>\n",
       "    </tr>\n",
       "  </thead>\n",
       "  <tbody>\n",
       "    <tr>\n",
       "      <th>1</th>\n",
       "      <td>90</td>\n",
       "      <td>10</td>\n",
       "    </tr>\n",
       "    <tr>\n",
       "      <th>2</th>\n",
       "      <td>2</td>\n",
       "      <td>98</td>\n",
       "    </tr>\n",
       "  </tbody>\n",
       "</table>\n",
       "</div>"
      ],
      "text/plain": [
       "True↓ \\ Pred→   1   2\n",
       "1              90  10\n",
       "2               2  98"
      ]
     },
     "execution_count": 3,
     "metadata": {
     },
     "output_type": "execute_result"
    },
    {
     "name": "stdout",
     "output_type": "stream",
     "text": [
      "Табличные вероятности ошибочной классификации:\n",
      "P(2|1) = 0.1\n",
      "P(1|2) = 0.02\n",
      "\n"
     ]
    }
   ],
   "source": [
    "Sigma = np.array([[1, 0, 0], [0, 4, 0], [0, 0, 9]])\n",
    "mu1 = np.array([-2, -1, 0])\n",
    "mu2 = np.array([1, 2, 3])\n",
    "n1 = 200\n",
    "n2 = 800\n",
    "test_part_n = 100\n",
    "\n",
    "X1 = gen_N(mu1, Sigma, n1)\n",
    "X2 = gen_N(mu2, Sigma, n2)\n",
    "test_X1 = gen_N(mu1, Sigma, test_part_n)\n",
    "test_X2 = gen_N(mu2, Sigma, test_part_n)\n",
    "\n",
    "analyze(X1, X2, test_X1, test_X2)"
   ]
  },
  {
   "cell_type": "code",
   "execution_count": 4,
   "metadata": {
    "collapsed": false,
    "scrolled": true
   },
   "outputs": [
    {
     "name": "stdout",
     "output_type": "stream",
     "text": [
      "Обучающая выборка\n"
     ]
    },
    {
     "data": {
      "text/html": [
       "<div>\n",
       "<style scoped>\n",
       "    .dataframe tbody tr th:only-of-type {\n",
       "        vertical-align: middle;\n",
       "    }\n",
       "\n",
       "    .dataframe tbody tr th {\n",
       "        vertical-align: top;\n",
       "    }\n",
       "\n",
       "    .dataframe thead th {\n",
       "        text-align: right;\n",
       "    }\n",
       "</style>\n",
       "<table border=\"1\" class=\"dataframe\">\n",
       "  <thead>\n",
       "    <tr style=\"text-align: right;\">\n",
       "      <th>True↓ \\ Pred→</th>\n",
       "      <th>1</th>\n",
       "      <th>2</th>\n",
       "    </tr>\n",
       "  </thead>\n",
       "  <tbody>\n",
       "    <tr>\n",
       "      <th>1</th>\n",
       "      <td>473</td>\n",
       "      <td>54</td>\n",
       "    </tr>\n",
       "    <tr>\n",
       "      <th>2</th>\n",
       "      <td>113</td>\n",
       "      <td>110</td>\n",
       "    </tr>\n",
       "  </tbody>\n",
       "</table>\n",
       "</div>"
      ],
      "text/plain": [
       "True↓ \\ Pred→    1    2\n",
       "1              473   54\n",
       "2              113  110"
      ]
     },
     "execution_count": 4,
     "metadata": {
     },
     "output_type": "execute_result"
    },
    {
     "name": "stdout",
     "output_type": "stream",
     "text": [
      "Смещённая оценка расстояния Махаланобиса:\n",
      "1.5858874979682476\n",
      "\n",
      "Несмещённая оценка расстояния Махаланобиса\n",
      "1.3797191213229203\n",
      "\n",
      "Табличные вероятности ошибочной классификации:\n",
      "P(2|1) = 0.10246679316888045\n",
      "P(1|2) = 0.5067264573991032\n",
      "\n",
      "Теоретические вероятности ошибочной классификации:\n",
      "P^(2|1) = 0.09350320052513472\n",
      "P^(1|2) = 0.5575941912890766\n",
      "\n",
      "Тестовая выборка\n"
     ]
    },
    {
     "data": {
      "text/html": [
       "<div>\n",
       "<style scoped>\n",
       "    .dataframe tbody tr th:only-of-type {\n",
       "        vertical-align: middle;\n",
       "    }\n",
       "\n",
       "    .dataframe tbody tr th {\n",
       "        vertical-align: top;\n",
       "    }\n",
       "\n",
       "    .dataframe thead th {\n",
       "        text-align: right;\n",
       "    }\n",
       "</style>\n",
       "<table border=\"1\" class=\"dataframe\">\n",
       "  <thead>\n",
       "    <tr style=\"text-align: right;\">\n",
       "      <th>True↓ \\ Pred→</th>\n",
       "      <th>1</th>\n",
       "      <th>2</th>\n",
       "    </tr>\n",
       "  </thead>\n",
       "  <tbody>\n",
       "    <tr>\n",
       "      <th>1</th>\n",
       "      <td>157</td>\n",
       "      <td>16</td>\n",
       "    </tr>\n",
       "    <tr>\n",
       "      <th>2</th>\n",
       "      <td>35</td>\n",
       "      <td>42</td>\n",
       "    </tr>\n",
       "  </tbody>\n",
       "</table>\n",
       "</div>"
      ],
      "text/plain": [
       "True↓ \\ Pred→    1   2\n",
       "1              157  16\n",
       "2               35  42"
      ]
     },
     "execution_count": 4,
     "metadata": {
     },
     "output_type": "execute_result"
    },
    {
     "name": "stdout",
     "output_type": "stream",
     "text": [
      "Табличные вероятности ошибочной классификации:\n",
      "P(2|1) = 0.09248554913294797\n",
      "P(1|2) = 0.45454545454545453\n",
      "\n"
     ]
    }
   ],
   "source": [
    "arr = parse_file('german.data-numeric')\n",
    "\n",
    "n = 1000\n",
    "p = 24\n",
    "n1 = 700\n",
    "n2 = 300\n",
    "q1 = n1 / n\n",
    "q2 = n2 / n\n",
    "X = np.empty((0, p))\n",
    "\n",
    "for i in range(n):\n",
    "    x = np.array(arr[i][:-1])\n",
    "    X = np.append(X, [x], axis=0)\n",
    "\n",
    "train_X, test_X = train_test_split(X, shuffle=False)\n",
    "X1, X2 = split_X(train_X, arr)\n",
    "test_X1, test_X2 = split_X(test_X, arr, offset=train_X.shape[0])\n",
    "\n",
    "analyze(X1, X2, test_X1, test_X2)"
   ]
  },
  {
   "cell_type": "code",
   "execution_count": 0,
   "metadata": {
    "collapsed": false
   },
   "outputs": [
   ],
   "source": [
   ]
  }
 ],
 "metadata": {
  "kernelspec": {
   "display_name": "Python 3 (system-wide)",
   "language": "python",
   "metadata": {
    "cocalc": {
     "description": "Python 3 programming language",
     "priority": 100,
     "url": "https://www.python.org/"
    }
   },
   "name": "python3"
  },
  "language_info": {
   "codemirror_mode": {
    "name": "ipython",
    "version": 3
   },
   "file_extension": ".py",
   "mimetype": "text/x-python",
   "name": "python",
   "nbconvert_exporter": "python",
   "pygments_lexer": "ipython3",
   "version": "3.8.5"
  }
 },
 "nbformat": 4,
 "nbformat_minor": 4
}